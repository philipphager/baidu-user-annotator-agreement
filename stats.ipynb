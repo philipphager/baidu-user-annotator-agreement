{
 "cells": [
  {
   "cell_type": "code",
   "execution_count": 1,
   "id": "e9740aa8-73ba-4c27-8653-efe2ab5f6cc4",
   "metadata": {},
   "outputs": [
    {
     "name": "stdout",
     "output_type": "stream",
     "text": [
      "\n",
      "\u001b[1m[\u001b[0m\u001b[34;49mnotice\u001b[0m\u001b[1;39;49m]\u001b[0m\u001b[39;49m A new release of pip is available: \u001b[0m\u001b[31;49m23.3.1\u001b[0m\u001b[39;49m -> \u001b[0m\u001b[32;49m24.0\u001b[0m\n",
      "\u001b[1m[\u001b[0m\u001b[34;49mnotice\u001b[0m\u001b[1;39;49m]\u001b[0m\u001b[39;49m To update, run: \u001b[0m\u001b[32;49mpip install --upgrade pip\u001b[0m\n"
     ]
    }
   ],
   "source": [
    "!pip install --quiet altair"
   ]
  },
  {
   "cell_type": "code",
   "execution_count": 2,
   "id": "bfe2299d-49be-4230-8908-bd18a8771800",
   "metadata": {},
   "outputs": [],
   "source": [
    "import altair as alt\n",
    "import pandas as pd"
   ]
  },
  {
   "cell_type": "code",
   "execution_count": 3,
   "id": "266fae6a",
   "metadata": {
    "collapsed": false,
    "jupyter": {
     "outputs_hidden": false
    },
    "pycharm": {
     "name": "#%%\n"
    }
   },
   "outputs": [],
   "source": [
    "click_df = pd.read_parquet(\"output/clicks.parquet\", columns=[\"query\", \"title\", \"abstract\", \"position\", \"click\"])\n",
    "annotation_df = pd.read_parquet(\"output/annotations.parquet\")"
   ]
  },
  {
   "cell_type": "markdown",
   "id": "69211d85-f418-4c69-8865-2bab67e0644b",
   "metadata": {},
   "source": [
    "## Utils"
   ]
  },
  {
   "cell_type": "code",
   "execution_count": 4,
   "id": "e0cd8993-3e23-46cf-ad84-e69689ba5784",
   "metadata": {},
   "outputs": [],
   "source": [
    "def match(df1, df2, columns, unique=False):\n",
    "    if unique:\n",
    "        df1 = df1[columns].drop_duplicates(columns)\n",
    "        df2 = df2[columns].drop_duplicates(columns)\n",
    "\n",
    "    return df1.merge(df2, on=columns)\n",
    "\n",
    "def missing_text(df, column, missing_token=\"21429\"):\n",
    "    return (df[column] == missing_token).agg([\"sum\", \"mean\"]).to_dict()"
   ]
  },
  {
   "cell_type": "code",
   "execution_count": 5,
   "id": "2343a54f-de33-4a2a-82b5-512e627cb4ad",
   "metadata": {},
   "outputs": [
    {
     "name": "stdout",
     "output_type": "stream",
     "text": [
      "# Expert annotations\n",
      "Unique queries (by text): 7,008\n",
      "Unique queries (by id): 5,201\n",
      "Query-doc pairs: 397,572\n",
      "Unique query/title comb.: 368,792\n"
     ]
    }
   ],
   "source": [
    "print(\"# Expert annotations\")\n",
    "print(f\"Unique queries (by text): {annotation_df['query'].nunique():,}\")\n",
    "print(f\"Unique queries (by id): {annotation_df['query_id'].nunique():,}\")\n",
    "print(f\"Query-doc pairs: {len(annotation_df):,}\")\n",
    "print(f\"Unique query/title comb.: {len(annotation_df[['query_id', 'title']].drop_duplicates()):,}\")"
   ]
  },
  {
   "cell_type": "code",
   "execution_count": 6,
   "id": "ee2972f8-1549-48ee-918e-a98a2e81f914",
   "metadata": {
    "scrolled": true
   },
   "outputs": [
    {
     "name": "stdout",
     "output_type": "stream",
     "text": [
      "# User clicks\n",
      "Unique queries (by text): 3,366\n",
      "Unique queries (by text) not in click dataset: 3,642\n",
      "Query-doc pairs: 59,891,217\n"
     ]
    }
   ],
   "source": [
    "print(\"# User clicks\")\n",
    "print(f\"Unique queries (by text): {click_df['query'].nunique():,}\")\n",
    "print(f\"Unique queries (by text) not in click dataset: {annotation_df['query'].nunique() - click_df['query'].nunique():,}\")\n",
    "print(f\"Query-doc pairs: {len(click_df):,}\")"
   ]
  },
  {
   "cell_type": "code",
   "execution_count": null,
   "id": "b5f47b62",
   "metadata": {
    "collapsed": false,
    "jupyter": {
     "outputs_hidden": false
    },
    "pycharm": {
     "name": "#%%\n"
    }
   },
   "outputs": [
    {
     "name": "stdout",
     "output_type": "stream",
     "text": [
      "# Text analysis\n",
      "## Expert annotations\n",
      "Missing query: {'sum': 0.0, 'mean': 0.0}\n",
      "Missing title: {'sum': 0.0, 'mean': 0.0}\n",
      "Missing abstract: {'sum': 0.0, 'mean': 0.0}\n",
      "\n",
      "## User clicks\n",
      "Missing query: {'sum': 0.0, 'mean': 0.0}\n",
      "Missing title: {'sum': 9744019.0, 'mean': 0.1626952913646754}\n",
      "Missing abstract: {'sum': 56333874.0, 'mean': 0.940603260741888}\n",
      "\n",
      "# Text match\n",
      "Query/title comb. in both datasets: 51,746,434\n",
      "Unique query/title comb. in both datasets: 8,672\n",
      "% of query/title comb. of the test set occur in both datasets: 0.023512888435790996\n"
     ]
    }
   ],
   "source": [
    "print(\"# Text analysis\")\n",
    "print(\"## Expert annotations\")\n",
    "print(f\"Missing query: {missing_text(annotation_df, column='query')}\")\n",
    "print(f\"Missing title: {missing_text(annotation_df, column='title')}\")\n",
    "print(f\"Missing abstract: {missing_text(annotation_df, column='abstract')}\")\n",
    "print()\n",
    "print(\"## User clicks\")\n",
    "print(f\"Missing query: {missing_text(click_df, column='query')}\")\n",
    "print(f\"Missing title: {missing_text(click_df, column='title')}\")\n",
    "print(f\"Missing abstract: {missing_text(click_df, column='abstract')}\")\n",
    "print()\n",
    "print(\"# Text match\")\n",
    "print(f\"Query/title comb. in both datasets: {len(match(annotation_df, click_df, columns=['query', 'title'])):,}\")\n",
    "print(f\"Unique query/title comb. in both datasets: {len(match(annotation_df, click_df, columns=['query', 'title'], unique=True)):,}\")\n",
    "print(f\"% of query/title comb. of the test set occur in both datasets: {len(match(annotation_df, click_df, columns=['query', 'title'], unique=True)) / len(annotation_df[['query', 'title']].drop_duplicates())}\")\n",
    "print(f\"Query/title/abstract comb. in both datasets: {len(match(annotation_df, click_df, columns=['query', 'title', 'abstract'])):,}\")"
   ]
  }
 ],
 "metadata": {
  "kernelspec": {
   "display_name": "Python 3 (ipykernel)",
   "language": "python",
   "name": "python3"
  },
  "language_info": {
   "codemirror_mode": {
    "name": "ipython",
    "version": 3
   },
   "file_extension": ".py",
   "mimetype": "text/x-python",
   "name": "python",
   "nbconvert_exporter": "python",
   "pygments_lexer": "ipython3",
   "version": "3.9.16"
  }
 },
 "nbformat": 4,
 "nbformat_minor": 5
}
